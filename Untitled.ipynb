{
 "cells": [
  {
   "cell_type": "code",
   "execution_count": 41,
   "metadata": {},
   "outputs": [],
   "source": [
    "from OpenCV3 import OpenCV_3\n",
    "detecFaces = OpenCV_3()\n",
    "detecFaces.setConfianzaDeteccion(0.137)"
   ]
  },
  {
   "cell_type": "code",
   "execution_count": 57,
   "metadata": {},
   "outputs": [],
   "source": [
    "import cv2\n",
    "def cargarImagenExtraerRostros(img):\n",
    "    frame = cv2.imread(img, cv2.IMREAD_UNCHANGED)\n",
    "    listadoCoordenadasRostro = detecFaces.detectarRostros(frame)\n",
    "    \n",
    "    contadorRostro = 0\n",
    "    for (startX, startY, endX, endY, confianzaEsteRostro) in listadoCoordenadasRostro:    \n",
    "        contadorRostro += 1\n",
    "        rostroColor = frame[startY:endY, startX:endX]\n",
    "        cv2.imwrite(\"find/face-\" + str(contadorRostro) + \"-\" + img, rostroColor)  \n",
    "    return listadoCoordenadasRostro\n",
    "\n",
    "def pintarRecuadrosEnRostros(img, listadoCoordenadasRostro):\n",
    "    frame = cv2.imread(img, cv2.IMREAD_UNCHANGED)\n",
    "    for (startX, startY, endX, endY, confianzaEsteRostro) in listadoCoordenadasRostro:   \n",
    "        cv2.rectangle(frame, (startX, startY), (endX, endY), (0, 0, 255), 2)\n",
    "        text = \"R: \" + \"{:.2f}%\".format(confianzaEsteRostro * 100)\n",
    "        y = startY - 10 if startY - 10 > 10 else startY + 10\n",
    "        cv2.putText(frame, text, (startX, y), cv2.FONT_HERSHEY_SIMPLEX, 0.45, (0, 0, 255), 2)\n",
    "    cv2.imwrite(\"rostros-\" + img, frame )"
   ]
  },
  {
   "cell_type": "code",
   "execution_count": 60,
   "metadata": {},
   "outputs": [],
   "source": [
    "nameImage = \"1.jpg\"\n",
    "listadoCoordenadasRostro = cargarImagenExtraerRostros(nameImage)\n",
    "pintarRecuadrosEnRostros(nameImage, listadoCoordenadasRostro)"
   ]
  },
  {
   "cell_type": "code",
   "execution_count": 61,
   "metadata": {},
   "outputs": [],
   "source": [
    "nameImage = \"2.jpg\"\n",
    "listadoCoordenadasRostro = cargarImagenExtraerRostros(nameImage)\n",
    "pintarRecuadrosEnRostros(nameImage, listadoCoordenadasRostro)"
   ]
  },
  {
   "cell_type": "code",
   "execution_count": 62,
   "metadata": {},
   "outputs": [],
   "source": []
  },
  {
   "cell_type": "code",
   "execution_count": null,
   "metadata": {},
   "outputs": [],
   "source": []
  }
 ],
 "metadata": {
  "kernelspec": {
   "display_name": "Python 3",
   "language": "python",
   "name": "python3"
  },
  "language_info": {
   "codemirror_mode": {
    "name": "ipython",
    "version": 3
   },
   "file_extension": ".py",
   "mimetype": "text/x-python",
   "name": "python",
   "nbconvert_exporter": "python",
   "pygments_lexer": "ipython3",
   "version": "3.6.5"
  }
 },
 "nbformat": 4,
 "nbformat_minor": 4
}
